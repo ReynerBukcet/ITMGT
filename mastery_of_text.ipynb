{
 "cells": [
  {
   "cell_type": "code",
   "execution_count": 10,
   "id": "b98f6fbd-3ba3-4c9c-92d9-1721f80de39b",
   "metadata": {},
   "outputs": [
    {
     "name": "stdout",
     "output_type": "stream",
     "text": [
      "Line Count: 99968\n",
      "WordCount 795227\n",
      "Apostle Count: 47\n",
      "Most Common Word: ['the']\n"
     ]
    }
   ],
   "source": [
    "import urllib.request\n",
    "\n",
    "# Get the text from the URL attempt bagillion\n",
    "with urllib.request.urlopen('https://www.gutenberg.org/cache/epub/10/pg10.txt') as response:\n",
    "    pg10=response.read()\n",
    "pg10= pg10.decode(\"utf-8\")\n",
    "\n",
    "#Lines\n",
    "print(\"Line Count:\",len(pg10.splitlines()))\n",
    "\n",
    "#Word Count\n",
    "words=[]    \n",
    "word=''\n",
    "for i in pg10:\n",
    "    if i.isalpha():\n",
    "        word+=i\n",
    "    else:\n",
    "        if len(word)>0:\n",
    "            words.append(word)\n",
    "            word=''\n",
    "WordCount=len(words)\n",
    "print(\"WordCount\",WordCount)\n",
    "    \n",
    "#Apostle\n",
    "splitlist=pg10.split()\n",
    "filtered_pg10 = [''.join(filter(str.isalpha, s)) for s in splitlist]\n",
    "ApostleCount=0\n",
    "for s in filtered_pg10:\n",
    "    if s.lower()==\"apostle\":\n",
    "        ApostleCount = ApostleCount + 1\n",
    "print(\"Apostle Count:\",ApostleCount)\n",
    "\n",
    "#Most CommonWord\n",
    "splitted=pg10.split()\n",
    "commonword={}\n",
    "for word in splitted:\n",
    "    if word in commonword:\n",
    "        commonword[word] +=1\n",
    "    else:\n",
    "        commonword[word]=1\n",
    "most=max(commonword.values())\n",
    "mostcommonword=[word for (word, count) in commonword.items() if count == most]\n",
    "print(\"Most Common Word:\",mostcommonword)"
   ]
  },
  {
   "cell_type": "code",
   "execution_count": null,
   "id": "267ef6ba-10e0-4f01-b07b-ee31b353aaa3",
   "metadata": {},
   "outputs": [],
   "source": []
  }
 ],
 "metadata": {
  "kernelspec": {
   "display_name": "Python 3 (ipykernel)",
   "language": "python",
   "name": "python3"
  },
  "language_info": {
   "codemirror_mode": {
    "name": "ipython",
    "version": 3
   },
   "file_extension": ".py",
   "mimetype": "text/x-python",
   "name": "python",
   "nbconvert_exporter": "python",
   "pygments_lexer": "ipython3",
   "version": "3.11.7"
  }
 },
 "nbformat": 4,
 "nbformat_minor": 5
}
